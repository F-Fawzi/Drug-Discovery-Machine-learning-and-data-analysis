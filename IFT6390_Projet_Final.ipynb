{
  "nbformat": 4,
  "nbformat_minor": 0,
  "metadata": {
    "colab": {
      "provenance": [],
      "include_colab_link": true
    },
    "kernelspec": {
      "name": "python3",
      "display_name": "Python 3"
    },
    "language_info": {
      "name": "python"
    },
    "accelerator": "GPU",
    "gpuClass": "standard"
  },
  "cells": [
    {
      "cell_type": "markdown",
      "metadata": {
        "id": "view-in-github",
        "colab_type": "text"
      },
      "source": [
        "<a href=\"https://colab.research.google.com/github/F-Fawzi/Drug-Discovery-Machine-learning-and-data-analysis/blob/main/IFT6390_Projet_Final.ipynb\" target=\"_parent\"><img src=\"https://colab.research.google.com/assets/colab-badge.svg\" alt=\"Open In Colab\"/></a>"
      ]
    },
    {
      "cell_type": "markdown",
      "source": [
        "# IFT6390 - Projet Final\n",
        "> **Christine Maher Assal**\n",
        "\n",
        "> **Fatima Zahra Fawzi**\n"
      ],
      "metadata": {
        "id": "VhnsYCSeSZYU"
      }
    },
    {
      "cell_type": "markdown",
      "source": [
        "#0. Importation des données et librairies"
      ],
      "metadata": {
        "id": "ESL-KqyjCDTG"
      }
    },
    {
      "cell_type": "code",
      "execution_count": null,
      "metadata": {
        "colab": {
          "base_uri": "https://localhost:8080/"
        },
        "id": "vP15pyepQZrY",
        "outputId": "15fa999e-b262-4488-f40e-f088e77e116f"
      },
      "outputs": [
        {
          "output_type": "stream",
          "name": "stdout",
          "text": [
            "Looking in indexes: https://pypi.org/simple, https://us-python.pkg.dev/colab-wheels/public/simple/\n",
            "Requirement already satisfied: transformers in /usr/local/lib/python3.10/dist-packages (4.28.1)\n",
            "Requirement already satisfied: numpy>=1.17 in /usr/local/lib/python3.10/dist-packages (from transformers) (1.22.4)\n",
            "Requirement already satisfied: pyyaml>=5.1 in /usr/local/lib/python3.10/dist-packages (from transformers) (6.0)\n",
            "Requirement already satisfied: requests in /usr/local/lib/python3.10/dist-packages (from transformers) (2.27.1)\n",
            "Requirement already satisfied: filelock in /usr/local/lib/python3.10/dist-packages (from transformers) (3.12.0)\n",
            "Requirement already satisfied: tqdm>=4.27 in /usr/local/lib/python3.10/dist-packages (from transformers) (4.65.0)\n",
            "Requirement already satisfied: packaging>=20.0 in /usr/local/lib/python3.10/dist-packages (from transformers) (23.1)\n",
            "Requirement already satisfied: tokenizers!=0.11.3,<0.14,>=0.11.1 in /usr/local/lib/python3.10/dist-packages (from transformers) (0.13.3)\n",
            "Requirement already satisfied: huggingface-hub<1.0,>=0.11.0 in /usr/local/lib/python3.10/dist-packages (from transformers) (0.14.1)\n",
            "Requirement already satisfied: regex!=2019.12.17 in /usr/local/lib/python3.10/dist-packages (from transformers) (2022.10.31)\n",
            "Requirement already satisfied: typing-extensions>=3.7.4.3 in /usr/local/lib/python3.10/dist-packages (from huggingface-hub<1.0,>=0.11.0->transformers) (4.5.0)\n",
            "Requirement already satisfied: fsspec in /usr/local/lib/python3.10/dist-packages (from huggingface-hub<1.0,>=0.11.0->transformers) (2023.4.0)\n",
            "Requirement already satisfied: idna<4,>=2.5 in /usr/local/lib/python3.10/dist-packages (from requests->transformers) (3.4)\n",
            "Requirement already satisfied: charset-normalizer~=2.0.0 in /usr/local/lib/python3.10/dist-packages (from requests->transformers) (2.0.12)\n",
            "Requirement already satisfied: certifi>=2017.4.17 in /usr/local/lib/python3.10/dist-packages (from requests->transformers) (2022.12.7)\n",
            "Requirement already satisfied: urllib3<1.27,>=1.21.1 in /usr/local/lib/python3.10/dist-packages (from requests->transformers) (1.26.15)\n",
            "Looking in indexes: https://pypi.org/simple, https://us-python.pkg.dev/colab-wheels/public/simple/\n",
            "Collecting git+https://github.com/samsinai/FLEXS\n",
            "  Cloning https://github.com/samsinai/FLEXS to /tmp/pip-req-build-dzwawx8s\n",
            "  Running command git clone --filter=blob:none --quiet https://github.com/samsinai/FLEXS /tmp/pip-req-build-dzwawx8s\n",
            "  Resolved https://github.com/samsinai/FLEXS to commit dd409167b5575b51967d325b4e48aef3577a505f\n",
            "  Preparing metadata (setup.py) ... \u001b[?25l\u001b[?25hdone\n",
            "Requirement already satisfied: cma in /usr/local/lib/python3.10/dist-packages (from flexs==0.2.7) (3.3.0)\n",
            "Requirement already satisfied: editdistance in /usr/local/lib/python3.10/dist-packages (from flexs==0.2.7) (0.6.2)\n",
            "Requirement already satisfied: numpy>=1.16 in /usr/local/lib/python3.10/dist-packages (from flexs==0.2.7) (1.22.4)\n",
            "Requirement already satisfied: pandas>=0.23 in /usr/local/lib/python3.10/dist-packages (from flexs==0.2.7) (1.5.3)\n",
            "Requirement already satisfied: torch>=0.4 in /usr/local/lib/python3.10/dist-packages (from flexs==0.2.7) (2.0.0+cu118)\n",
            "Requirement already satisfied: scikit-learn>=0.20 in /usr/local/lib/python3.10/dist-packages (from flexs==0.2.7) (1.2.2)\n",
            "Requirement already satisfied: tape-proteins in /usr/local/lib/python3.10/dist-packages (from flexs==0.2.7) (0.5)\n",
            "Requirement already satisfied: tensorflow>=2 in /usr/local/lib/python3.10/dist-packages (from flexs==0.2.7) (2.12.0)\n",
            "Requirement already satisfied: tf-agents>=0.7.1 in /usr/local/lib/python3.10/dist-packages (from flexs==0.2.7) (0.16.0)\n",
            "Requirement already satisfied: pytz>=2020.1 in /usr/local/lib/python3.10/dist-packages (from pandas>=0.23->flexs==0.2.7) (2022.7.1)\n",
            "Requirement already satisfied: python-dateutil>=2.8.1 in /usr/local/lib/python3.10/dist-packages (from pandas>=0.23->flexs==0.2.7) (2.8.2)\n",
            "Requirement already satisfied: scipy>=1.3.2 in /usr/local/lib/python3.10/dist-packages (from scikit-learn>=0.20->flexs==0.2.7) (1.10.1)\n",
            "Requirement already satisfied: threadpoolctl>=2.0.0 in /usr/local/lib/python3.10/dist-packages (from scikit-learn>=0.20->flexs==0.2.7) (3.1.0)\n",
            "Requirement already satisfied: joblib>=1.1.1 in /usr/local/lib/python3.10/dist-packages (from scikit-learn>=0.20->flexs==0.2.7) (1.2.0)\n",
            "Requirement already satisfied: tensorflow-estimator<2.13,>=2.12.0 in /usr/local/lib/python3.10/dist-packages (from tensorflow>=2->flexs==0.2.7) (2.12.0)\n",
            "Requirement already satisfied: wrapt<1.15,>=1.11.0 in /usr/local/lib/python3.10/dist-packages (from tensorflow>=2->flexs==0.2.7) (1.14.1)\n",
            "Requirement already satisfied: absl-py>=1.0.0 in /usr/local/lib/python3.10/dist-packages (from tensorflow>=2->flexs==0.2.7) (1.4.0)\n",
            "Requirement already satisfied: keras<2.13,>=2.12.0 in /usr/local/lib/python3.10/dist-packages (from tensorflow>=2->flexs==0.2.7) (2.12.0)\n",
            "Requirement already satisfied: protobuf!=4.21.0,!=4.21.1,!=4.21.2,!=4.21.3,!=4.21.4,!=4.21.5,<5.0.0dev,>=3.20.3 in /usr/local/lib/python3.10/dist-packages (from tensorflow>=2->flexs==0.2.7) (3.20.3)\n",
            "Requirement already satisfied: opt-einsum>=2.3.2 in /usr/local/lib/python3.10/dist-packages (from tensorflow>=2->flexs==0.2.7) (3.3.0)\n",
            "Requirement already satisfied: termcolor>=1.1.0 in /usr/local/lib/python3.10/dist-packages (from tensorflow>=2->flexs==0.2.7) (2.3.0)\n",
            "Requirement already satisfied: grpcio<2.0,>=1.24.3 in /usr/local/lib/python3.10/dist-packages (from tensorflow>=2->flexs==0.2.7) (1.54.0)\n",
            "Requirement already satisfied: packaging in /usr/local/lib/python3.10/dist-packages (from tensorflow>=2->flexs==0.2.7) (23.1)\n",
            "Requirement already satisfied: gast<=0.4.0,>=0.2.1 in /usr/local/lib/python3.10/dist-packages (from tensorflow>=2->flexs==0.2.7) (0.4.0)\n",
            "Requirement already satisfied: h5py>=2.9.0 in /usr/local/lib/python3.10/dist-packages (from tensorflow>=2->flexs==0.2.7) (3.8.0)\n",
            "Requirement already satisfied: astunparse>=1.6.0 in /usr/local/lib/python3.10/dist-packages (from tensorflow>=2->flexs==0.2.7) (1.6.3)\n",
            "Requirement already satisfied: typing-extensions>=3.6.6 in /usr/local/lib/python3.10/dist-packages (from tensorflow>=2->flexs==0.2.7) (4.5.0)\n",
            "Requirement already satisfied: libclang>=13.0.0 in /usr/local/lib/python3.10/dist-packages (from tensorflow>=2->flexs==0.2.7) (16.0.0)\n",
            "Requirement already satisfied: flatbuffers>=2.0 in /usr/local/lib/python3.10/dist-packages (from tensorflow>=2->flexs==0.2.7) (23.3.3)\n",
            "Requirement already satisfied: jax>=0.3.15 in /usr/local/lib/python3.10/dist-packages (from tensorflow>=2->flexs==0.2.7) (0.4.8)\n",
            "Requirement already satisfied: six>=1.12.0 in /usr/local/lib/python3.10/dist-packages (from tensorflow>=2->flexs==0.2.7) (1.16.0)\n",
            "Requirement already satisfied: google-pasta>=0.1.1 in /usr/local/lib/python3.10/dist-packages (from tensorflow>=2->flexs==0.2.7) (0.2.0)\n",
            "Requirement already satisfied: setuptools in /usr/local/lib/python3.10/dist-packages (from tensorflow>=2->flexs==0.2.7) (67.7.2)\n",
            "Requirement already satisfied: tensorflow-io-gcs-filesystem>=0.23.1 in /usr/local/lib/python3.10/dist-packages (from tensorflow>=2->flexs==0.2.7) (0.32.0)\n",
            "Requirement already satisfied: tensorboard<2.13,>=2.12 in /usr/local/lib/python3.10/dist-packages (from tensorflow>=2->flexs==0.2.7) (2.12.2)\n",
            "Requirement already satisfied: gym<=0.23.0,>=0.17.0 in /usr/local/lib/python3.10/dist-packages (from tf-agents>=0.7.1->flexs==0.2.7) (0.23.0)\n",
            "Requirement already satisfied: tensorflow-probability~=0.19.0 in /usr/local/lib/python3.10/dist-packages (from tf-agents>=0.7.1->flexs==0.2.7) (0.19.0)\n",
            "Requirement already satisfied: cloudpickle>=1.3 in /usr/local/lib/python3.10/dist-packages (from tf-agents>=0.7.1->flexs==0.2.7) (2.2.1)\n",
            "Requirement already satisfied: gin-config>=0.4.0 in /usr/local/lib/python3.10/dist-packages (from tf-agents>=0.7.1->flexs==0.2.7) (0.5.0)\n",
            "Requirement already satisfied: pygame==2.1.3 in /usr/local/lib/python3.10/dist-packages (from tf-agents>=0.7.1->flexs==0.2.7) (2.1.3)\n",
            "Requirement already satisfied: pillow in /usr/local/lib/python3.10/dist-packages (from tf-agents>=0.7.1->flexs==0.2.7) (8.4.0)\n",
            "Requirement already satisfied: jinja2 in /usr/local/lib/python3.10/dist-packages (from torch>=0.4->flexs==0.2.7) (3.1.2)\n",
            "Requirement already satisfied: networkx in /usr/local/lib/python3.10/dist-packages (from torch>=0.4->flexs==0.2.7) (3.1)\n",
            "Requirement already satisfied: triton==2.0.0 in /usr/local/lib/python3.10/dist-packages (from torch>=0.4->flexs==0.2.7) (2.0.0)\n",
            "Requirement already satisfied: sympy in /usr/local/lib/python3.10/dist-packages (from torch>=0.4->flexs==0.2.7) (1.11.1)\n",
            "Requirement already satisfied: filelock in /usr/local/lib/python3.10/dist-packages (from torch>=0.4->flexs==0.2.7) (3.12.0)\n",
            "Requirement already satisfied: lit in /usr/local/lib/python3.10/dist-packages (from triton==2.0.0->torch>=0.4->flexs==0.2.7) (16.0.2)\n",
            "Requirement already satisfied: cmake in /usr/local/lib/python3.10/dist-packages (from triton==2.0.0->torch>=0.4->flexs==0.2.7) (3.25.2)\n",
            "Requirement already satisfied: tqdm in /usr/local/lib/python3.10/dist-packages (from tape-proteins->flexs==0.2.7) (4.65.0)\n",
            "Requirement already satisfied: boto3 in /usr/local/lib/python3.10/dist-packages (from tape-proteins->flexs==0.2.7) (1.26.123)\n",
            "Requirement already satisfied: tensorboardX in /usr/local/lib/python3.10/dist-packages (from tape-proteins->flexs==0.2.7) (2.6)\n",
            "Requirement already satisfied: requests in /usr/local/lib/python3.10/dist-packages (from tape-proteins->flexs==0.2.7) (2.27.1)\n",
            "Requirement already satisfied: lmdb in /usr/local/lib/python3.10/dist-packages (from tape-proteins->flexs==0.2.7) (1.4.1)\n",
            "Requirement already satisfied: biopython in /usr/local/lib/python3.10/dist-packages (from tape-proteins->flexs==0.2.7) (1.81)\n",
            "Requirement already satisfied: wheel<1.0,>=0.23.0 in /usr/local/lib/python3.10/dist-packages (from astunparse>=1.6.0->tensorflow>=2->flexs==0.2.7) (0.40.0)\n",
            "Requirement already satisfied: gym-notices>=0.0.4 in /usr/local/lib/python3.10/dist-packages (from gym<=0.23.0,>=0.17.0->tf-agents>=0.7.1->flexs==0.2.7) (0.0.8)\n",
            "Requirement already satisfied: ml-dtypes>=0.0.3 in /usr/local/lib/python3.10/dist-packages (from jax>=0.3.15->tensorflow>=2->flexs==0.2.7) (0.1.0)\n",
            "Requirement already satisfied: werkzeug>=1.0.1 in /usr/local/lib/python3.10/dist-packages (from tensorboard<2.13,>=2.12->tensorflow>=2->flexs==0.2.7) (2.3.0)\n",
            "Requirement already satisfied: tensorboard-plugin-wit>=1.6.0 in /usr/local/lib/python3.10/dist-packages (from tensorboard<2.13,>=2.12->tensorflow>=2->flexs==0.2.7) (1.8.1)\n",
            "Requirement already satisfied: google-auth<3,>=1.6.3 in /usr/local/lib/python3.10/dist-packages (from tensorboard<2.13,>=2.12->tensorflow>=2->flexs==0.2.7) (2.17.3)\n",
            "Requirement already satisfied: markdown>=2.6.8 in /usr/local/lib/python3.10/dist-packages (from tensorboard<2.13,>=2.12->tensorflow>=2->flexs==0.2.7) (3.4.3)\n",
            "Requirement already satisfied: tensorboard-data-server<0.8.0,>=0.7.0 in /usr/local/lib/python3.10/dist-packages (from tensorboard<2.13,>=2.12->tensorflow>=2->flexs==0.2.7) (0.7.0)\n",
            "Requirement already satisfied: google-auth-oauthlib<1.1,>=0.5 in /usr/local/lib/python3.10/dist-packages (from tensorboard<2.13,>=2.12->tensorflow>=2->flexs==0.2.7) (1.0.0)\n",
            "Requirement already satisfied: urllib3<1.27,>=1.21.1 in /usr/local/lib/python3.10/dist-packages (from requests->tape-proteins->flexs==0.2.7) (1.26.15)\n",
            "Requirement already satisfied: idna<4,>=2.5 in /usr/local/lib/python3.10/dist-packages (from requests->tape-proteins->flexs==0.2.7) (3.4)\n",
            "Requirement already satisfied: certifi>=2017.4.17 in /usr/local/lib/python3.10/dist-packages (from requests->tape-proteins->flexs==0.2.7) (2022.12.7)\n",
            "Requirement already satisfied: charset-normalizer~=2.0.0 in /usr/local/lib/python3.10/dist-packages (from requests->tape-proteins->flexs==0.2.7) (2.0.12)\n",
            "Requirement already satisfied: dm-tree in /usr/local/lib/python3.10/dist-packages (from tensorflow-probability~=0.19.0->tf-agents>=0.7.1->flexs==0.2.7) (0.1.8)\n",
            "Requirement already satisfied: decorator in /usr/local/lib/python3.10/dist-packages (from tensorflow-probability~=0.19.0->tf-agents>=0.7.1->flexs==0.2.7) (4.4.2)\n",
            "Requirement already satisfied: s3transfer<0.7.0,>=0.6.0 in /usr/local/lib/python3.10/dist-packages (from boto3->tape-proteins->flexs==0.2.7) (0.6.0)\n",
            "Requirement already satisfied: jmespath<2.0.0,>=0.7.1 in /usr/local/lib/python3.10/dist-packages (from boto3->tape-proteins->flexs==0.2.7) (1.0.1)\n",
            "Requirement already satisfied: botocore<1.30.0,>=1.29.123 in /usr/local/lib/python3.10/dist-packages (from boto3->tape-proteins->flexs==0.2.7) (1.29.123)\n",
            "Requirement already satisfied: MarkupSafe>=2.0 in /usr/local/lib/python3.10/dist-packages (from jinja2->torch>=0.4->flexs==0.2.7) (2.1.2)\n",
            "Requirement already satisfied: mpmath>=0.19 in /usr/local/lib/python3.10/dist-packages (from sympy->torch>=0.4->flexs==0.2.7) (1.3.0)\n",
            "Requirement already satisfied: pyasn1-modules>=0.2.1 in /usr/local/lib/python3.10/dist-packages (from google-auth<3,>=1.6.3->tensorboard<2.13,>=2.12->tensorflow>=2->flexs==0.2.7) (0.3.0)\n",
            "Requirement already satisfied: rsa<5,>=3.1.4 in /usr/local/lib/python3.10/dist-packages (from google-auth<3,>=1.6.3->tensorboard<2.13,>=2.12->tensorflow>=2->flexs==0.2.7) (4.9)\n",
            "Requirement already satisfied: cachetools<6.0,>=2.0.0 in /usr/local/lib/python3.10/dist-packages (from google-auth<3,>=1.6.3->tensorboard<2.13,>=2.12->tensorflow>=2->flexs==0.2.7) (5.3.0)\n",
            "Requirement already satisfied: requests-oauthlib>=0.7.0 in /usr/local/lib/python3.10/dist-packages (from google-auth-oauthlib<1.1,>=0.5->tensorboard<2.13,>=2.12->tensorflow>=2->flexs==0.2.7) (1.3.1)\n",
            "Requirement already satisfied: pyasn1<0.6.0,>=0.4.6 in /usr/local/lib/python3.10/dist-packages (from pyasn1-modules>=0.2.1->google-auth<3,>=1.6.3->tensorboard<2.13,>=2.12->tensorflow>=2->flexs==0.2.7) (0.5.0)\n",
            "Requirement already satisfied: oauthlib>=3.0.0 in /usr/local/lib/python3.10/dist-packages (from requests-oauthlib>=0.7.0->google-auth-oauthlib<1.1,>=0.5->tensorboard<2.13,>=2.12->tensorflow>=2->flexs==0.2.7) (3.2.2)\n",
            "Looking in indexes: https://pypi.org/simple, https://us-python.pkg.dev/colab-wheels/public/simple/\n",
            "Requirement already satisfied: warmup-scheduler in /usr/local/lib/python3.10/dist-packages (0.3)\n"
          ]
        }
      ],
      "source": [
        "!pip install transformers\n",
        "!pip install git+https://github.com/samsinai/FLEXS\n",
        "!pip install warmup-scheduler\n",
        "import flexs\n",
        "import pandas\n",
        "from flexs import baselines\n",
        "import flexs.utils.sequence_utils as s_utils\n",
        "training_data_pth = \"https://raw.githubusercontent.com/SimonDufLab/IFT6390--H2023--Project/main/training_data.csv\"\n",
        "test_data_pth = \"https://raw.githubusercontent.com/SimonDufLab/IFT6390--H2023--Project/main/test_data.csv\""
      ]
    },
    {
      "cell_type": "markdown",
      "source": [
        "#1. Modèle de substitution Multi-SWAG"
      ],
      "metadata": {
        "id": "7W59o59HCJNX"
      }
    },
    {
      "cell_type": "code",
      "source": [
        "# Imports\n",
        "import torch\n",
        "import numpy as np\n",
        "import pandas as pd\n",
        "from sklearn.model_selection import train_test_split\n",
        "from sklearn.preprocessing import OneHotEncoder\n",
        "from torch import nn\n",
        "from torch.optim import Adam\n",
        "from torch.utils.data import DataLoader, TensorDataset, Dataset\n",
        "from torch.distributions import Normal\n",
        "from torch.optim.lr_scheduler import CosineAnnealingLR\n",
        "from warmup_scheduler import GradualWarmupScheduler\n",
        "import copy"
      ],
      "metadata": {
        "id": "YDvtCXjDx_2-"
      },
      "execution_count": null,
      "outputs": []
    },
    {
      "cell_type": "code",
      "source": [
        "# Read data \n",
        "train_data = pd.read_csv(training_data_pth)\n",
        "test_data = pd.read_csv(test_data_pth)"
      ],
      "metadata": {
        "id": "E-EoOAGYxmSN"
      },
      "execution_count": null,
      "outputs": []
    },
    {
      "cell_type": "code",
      "source": [
        "# Encodage one hot sous forme d'un tableau à une dimension\n",
        "def one_hot_encode_dna_df(sequence):\n",
        "    seq_len = len(sequence)\n",
        "    encoding = np.zeros((seq_len, 4))\n",
        "    base_to_index = {'A': 0, 'C': 1, 'G': 2, 'T': 3}\n",
        "    \n",
        "    for i, base in enumerate(sequence):\n",
        "        encoding[i, base_to_index[base]] = 1\n",
        "    return encoding.flatten()\n",
        "\n",
        "# Concatenate starting_seq and binding for training\n",
        "train_data['seq_pair'] = train_data['starting_seq'] + train_data['binding']\n",
        "test_data['seq_pair'] = test_data['starting_seq'] + test_data['binding']\n",
        "\n",
        "\n",
        "train_data['one_hot'] = train_data['seq_pair'].apply(one_hot_encode_dna_df)\n",
        "test_data['one_hot'] = test_data['seq_pair'].apply(one_hot_encode_dna_df)\n",
        "\n",
        "input_data = np.vstack(train_data['one_hot'].values)\n",
        "output_data = train_data['fitness'].values\n",
        "X_train, X_val, y_train, y_val = train_test_split(input_data, output_data, test_size=0.2, random_state=42)\n",
        "\n",
        "# Données d'entrées et de sorties\n",
        "X_test = np.vstack(test_data['one_hot'].values)\n",
        "y_test = test_data['fitness'].values"
      ],
      "metadata": {
        "id": "BtGVOWrixrHi"
      },
      "execution_count": null,
      "outputs": []
    },
    {
      "cell_type": "code",
      "source": [
        "# Initialisation des données d'entrée(X) et de sortie(y)\n",
        "class DNADataset(Dataset):\n",
        "    def __init__(self, X, y):\n",
        "        self.X = X\n",
        "        self.y = y\n",
        "\n",
        "    def __len__(self):\n",
        "        return len(self.X)\n",
        "\n",
        "    def __getitem__(self, idx):\n",
        "        return torch.tensor(self.X[idx], dtype=torch.float32), torch.tensor(self.y[idx], dtype=torch.float32)\n",
        "\n",
        "# Création de train, validation et test DataLoaders\n",
        "train_dataset = DNADataset(X_train, y_train)\n",
        "train_loader = DataLoader(train_dataset, batch_size=32, shuffle=True)\n",
        "\n",
        "val_dataset = DNADataset(X_val, y_val)\n",
        "val_loader = DataLoader(val_dataset, batch_size=32, shuffle=True)\n",
        "\n",
        "test_dataset = DNADataset(X_test, y_test)\n",
        "test_loader = DataLoader(test_dataset, batch_size=32)"
      ],
      "metadata": {
        "id": "r9-LJKRgxwyT"
      },
      "execution_count": null,
      "outputs": []
    },
    {
      "cell_type": "code",
      "source": [
        "# Modèle de réseaux de neurones utilisé dans le modèle Multi-SWAG\n",
        "class DNAModel(nn.Module):\n",
        "    def __init__(self, input_size):\n",
        "        super(DNAModel, self).__init__()\n",
        "        self.fc1 = nn.Linear(input_size, 64)\n",
        "        self.fc2 = nn.Linear(64, 32)\n",
        "        self.fc3 = nn.Linear(32, 1)\n",
        "\n",
        "    def forward(self, x):\n",
        "        x = torch.relu(self.fc1(x))\n",
        "        x = torch.relu(self.fc2(x))\n",
        "        x = self.fc3(x)\n",
        "        x = torch.sigmoid(x)  \n",
        "        return x"
      ],
      "metadata": {
        "id": "mN3zCRBcx0nh"
      },
      "execution_count": null,
      "outputs": []
    },
    {
      "cell_type": "code",
      "source": [
        "class SWAG:\n",
        "    def __init__(self, base_model_class, input_size, device):\n",
        "        self.device = device\n",
        "        self.mean_model = base_model_class(input_size).to(device)\n",
        "        self.var_model = base_model_class(input_size).to(device)\n",
        "        self.n_models = 0\n",
        "\n",
        "        for var_param in self.var_model.parameters():\n",
        "            var_param.data.fill_(1e-6)\n",
        "\n",
        "    # Génération d'un échantillon de modèle en utilisant une distribution gaussienne \n",
        "    def sample(self):\n",
        "        sampled_model = copy.deepcopy(self.mean_model)\n",
        "        for mean_param, var_param, sampled_param in zip(self.mean_model.parameters(), self.var_model.parameters(), sampled_model.parameters()):\n",
        "            dist = Normal(mean_param, torch.sqrt(var_param))\n",
        "            sampled_param.data.copy_(dist.sample())\n",
        "        return sampled_model\n",
        "\n",
        "    # Mise à jour des moyennes et des variances à partir d'un nouveau modèle passé en argument\n",
        "    def update(self, model):\n",
        "        self.n_models += 1\n",
        "        for mean_param, var_param, model_param in zip(self.mean_model.parameters(), self.var_model.parameters(), model.parameters()):\n",
        "            delta = model_param - mean_param\n",
        "            new_mean = mean_param + delta / self.n_models\n",
        "            new_var = var_param + delta * (model_param - new_mean)\n",
        "\n",
        "            mean_param.data.copy_(new_mean)\n",
        "            var_param.data.copy_(new_var)"
      ],
      "metadata": {
        "id": "lpOfyDhzx5TX"
      },
      "execution_count": null,
      "outputs": []
    },
    {
      "cell_type": "code",
      "source": [
        "epochs = 20\n",
        "swag_start_epoch = 5\n",
        "swag_epochs = epochs - swag_start_epoch\n",
        "swag_samples = 20\n",
        "swag_models = []\n",
        "\n",
        "input_size = X_train.shape[1] \n",
        "\n",
        "device = torch.device(\"cuda\" if torch.cuda.is_available() else \"cpu\")\n",
        "\n",
        "# Initialisation du modèle et de l'optimiseur\n",
        "model = DNAModel(input_size).to(device)\n",
        "optimizer = Adam(model.parameters(), lr=0.001)\n",
        "\n",
        "# Initialisation de la classe SWAG et d'un scheduler\n",
        "swag = SWAG(DNAModel, input_size, device)\n",
        "scheduler = GradualWarmupScheduler(optimizer, multiplier=1, total_epoch=5, after_scheduler=CosineAnnealingLR(optimizer, T_max=swag_epochs))"
      ],
      "metadata": {
        "id": "c0ESjeHMyIeE"
      },
      "execution_count": null,
      "outputs": []
    },
    {
      "cell_type": "code",
      "source": [
        "train_losses = []\n",
        "val_losses = []\n",
        "\n",
        "for epoch in range(epochs):\n",
        "    # Entraînement\n",
        "    model.train()\n",
        "    for batch_idx, (data, target) in enumerate(train_loader):\n",
        "        data, target = data.to(device), target.to(device)\n",
        "        optimizer.zero_grad()\n",
        "        output = model(data)\n",
        "        loss = nn.MSELoss()(output.squeeze(), target)\n",
        "        train_losses.append(loss.item())\n",
        "        loss.backward()\n",
        "        optimizer.step()\n",
        "\n",
        "    scheduler.step()\n",
        "\n",
        "    if epoch >= swag_start_epoch:\n",
        "        swag.update(model)\n",
        "    swag_models.append(swag)\n",
        "\n",
        "    # Validation\n",
        "    model.eval()\n",
        "    val_loss = 0\n",
        "    with torch.no_grad():\n",
        "        for data, target in val_loader:\n",
        "            data, target = data.to(device), target.to(device)\n",
        "            output = model(data)\n",
        "            loss = nn.MSELoss()(output.squeeze(), target)\n",
        "            val_losses.append(loss.item())\n",
        "            val_loss += loss.item()\n",
        "\n",
        "    print(f'Epoch {epoch}, Validation loss: {val_loss / len(val_loader)}')\n"
      ],
      "metadata": {
        "colab": {
          "base_uri": "https://localhost:8080/"
        },
        "id": "77gTmrp7yPRJ",
        "outputId": "7498938d-c50a-4e7c-bc03-612746d4c8b8"
      },
      "execution_count": null,
      "outputs": [
        {
          "output_type": "stream",
          "name": "stdout",
          "text": [
            "Epoch 0, Validation loss: 0.031228094927186097\n",
            "Epoch 1, Validation loss: 0.011952688467784928\n",
            "Epoch 2, Validation loss: 0.009517706064148973\n",
            "Epoch 3, Validation loss: 0.00876747043519607\n",
            "Epoch 4, Validation loss: 0.008389489952836211\n"
          ]
        },
        {
          "output_type": "stream",
          "name": "stderr",
          "text": [
            "/usr/local/lib/python3.10/dist-packages/torch/optim/lr_scheduler.py:814: UserWarning: To get the last learning rate computed by the scheduler, please use `get_last_lr()`.\n",
            "  warnings.warn(\"To get the last learning rate computed by the scheduler, \"\n"
          ]
        },
        {
          "output_type": "stream",
          "name": "stdout",
          "text": [
            "Epoch 5, Validation loss: 0.00812129097388891\n",
            "Epoch 6, Validation loss: 0.008080978391648239\n",
            "Epoch 7, Validation loss: 0.007866831353125384\n",
            "Epoch 8, Validation loss: 0.007664252957602926\n",
            "Epoch 9, Validation loss: 0.0076276907414339285\n",
            "Epoch 10, Validation loss: 0.0074458645562378006\n",
            "Epoch 11, Validation loss: 0.007312374744133228\n",
            "Epoch 12, Validation loss: 0.007353681714444724\n",
            "Epoch 13, Validation loss: 0.007201004010674463\n",
            "Epoch 14, Validation loss: 0.007173151951427569\n",
            "Epoch 15, Validation loss: 0.007067993174136314\n",
            "Epoch 16, Validation loss: 0.007059135926237309\n",
            "Epoch 17, Validation loss: 0.006997765003684122\n",
            "Epoch 18, Validation loss: 0.006981402554811601\n",
            "Epoch 19, Validation loss: 0.006961657799444874\n"
          ]
        }
      ]
    },
    {
      "cell_type": "markdown",
      "source": [
        "####Évaluation du modèle multi-SWAG sur l'ensemble test `test_loader`"
      ],
      "metadata": {
        "id": "UlbBhiiPFQKS"
      }
    },
    {
      "cell_type": "code",
      "source": [
        "def evaluate(model, test_loader, device):\n",
        "    model.eval()\n",
        "    test_loss = 0\n",
        "    with torch.no_grad():\n",
        "        for data, target in test_loader:\n",
        "            data, target = data.to(device), target.to(device)\n",
        "            output = model(data)\n",
        "            loss = nn.MSELoss()(output.squeeze(), target)\n",
        "            test_loss += loss.item()\n",
        "    return test_loss / len(test_loader)\n",
        "\n",
        "sampled_models = [swag.sample() for swag in swag_models]\n",
        "sampled_model_losses = [evaluate(model, test_loader, device) for model in sampled_models]\n",
        "print(sampled_model_losses)\n",
        "\n",
        "ensemble_preds = []\n",
        "for data, _ in test_loader:\n",
        "    data = data.to(device)\n",
        "    preds = [model(data).squeeze().detach().cpu().numpy() for model in sampled_models]\n",
        "    avg_preds = np.mean(preds, axis=0)\n",
        "    ensemble_preds.extend(avg_preds)\n",
        "\n",
        "ensemble_preds = np.array(ensemble_preds)\n",
        "\n",
        "ensemble_loss = np.mean((y_test - ensemble_preds) ** 2)\n",
        "print(f\"Multi-SWAG ensemble loss on test data: {ensemble_loss}\")"
      ],
      "metadata": {
        "colab": {
          "base_uri": "https://localhost:8080/"
        },
        "id": "HjxXrME1URl5",
        "outputId": "cc09bf6c-fd44-43a2-8e63-23c9be391e28"
      },
      "execution_count": null,
      "outputs": [
        {
          "output_type": "stream",
          "name": "stdout",
          "text": [
            "[0.04956085156044809, 0.05453619717215923, 0.04507720197158817, 0.03641465135488512, 0.04806444423708232, 0.08896418889625031, 0.051417123332309224, 0.04350039854966382, 0.04209830262851411, 0.05026426143064, 0.04621853040870312, 0.0344100406831498, 0.039722029809541835, 0.03584182081517371, 0.037646997882371865, 0.06266357713856881, 0.043869718071890246, 0.04433999936609006, 0.031005432281904576, 0.04470775764498843]\n",
            "Multi-SWAG ensemble loss on test data: 0.01311207576914138\n"
          ]
        }
      ]
    },
    {
      "cell_type": "code",
      "source": [
        "import matplotlib.pyplot as plt\n",
        "\n",
        "test_losses = [evaluate(model, test_loader, device) for model in sampled_models]\n",
        "\n",
        "# Training losses\n",
        "plt.plot(range(1, len(train_losses) + 1), train_losses, label='Training Loss')\n",
        "plt.xlabel('Optimization Step')\n",
        "plt.ylabel('Loss')\n",
        "plt.legend()\n",
        "plt.title('Training Loss vs. Optimization Step')\n",
        "plt.show()\n",
        "\n",
        "# Validation losses\n",
        "plt.plot(range(1, len(val_losses) + 1), val_losses, label='Validation Loss')\n",
        "plt.xlabel('Optimization Step')\n",
        "plt.ylabel('Loss')\n",
        "plt.legend()\n",
        "plt.title('Validation Loss vs. Optimization Step')\n",
        "plt.show()"
      ],
      "metadata": {
        "colab": {
          "base_uri": "https://localhost:8080/",
          "height": 927
        },
        "id": "f3mMUAL_MZGL",
        "outputId": "7fbd89c6-843f-446b-f2f1-9bc19a9446ec"
      },
      "execution_count": null,
      "outputs": [
        {
          "output_type": "display_data",
          "data": {
            "text/plain": [
              "<Figure size 640x480 with 1 Axes>"
            ],
            "image/png": "[encoded data removed]"
          },
          "metadata": {}
        },
        {
          "output_type": "display_data",
          "data": {
            "text/plain": [
              "<Figure size 640x480 with 1 Axes>"
            ],
            "image/png": "[encoded data removed]"
          },
          "metadata": {}
        }
      ]
    },
    {
      "cell_type": "markdown",
      "source": [
        "####Exemple de prédiction de fitness entre une séquence `starting_seq` et une séquence `binding` tiré de l'ensemble"
      ],
      "metadata": {
        "id": "yfBB2WC4AWIj"
      }
    },
    {
      "cell_type": "code",
      "source": [
        "def one_hot_encode_dna(starting_seq, binding_seq, input_size):\n",
        "    sequence = starting_seq + binding_seq\n",
        "    seq_len = len(sequence)\n",
        "    encoding = np.zeros((seq_len, 4))\n",
        "    base_to_index = {'A': 0, 'C': 1, 'G': 2, 'T': 3}\n",
        "    \n",
        "    for i, base in enumerate(sequence):\n",
        "        encoding[i, base_to_index[base]] = 1\n",
        "    \n",
        "    padded_encoding = np.zeros((input_size // 4, 4))\n",
        "    padded_encoding[:min(seq_len, input_size // 4)] = encoding[:min(seq_len, input_size // 4)]\n",
        "    return padded_encoding.reshape(1, -1)\n",
        "    \n",
        "def predict_fitness(model, starting_seq, binding_seq):\n",
        "    model.eval()\n",
        "    input_sequence_encoded = one_hot_encode_dna(starting_seq, binding_seq, input_size)\n",
        "    input_tensor = torch.tensor(input_sequence_encoded, dtype=torch.float32).to(device)\n",
        "    with torch.no_grad():\n",
        "        predicted_fitness = model(input_tensor).item()\n",
        "    return predicted_fitness"
      ],
      "metadata": {
        "id": "nv-1MLF0yXNc"
      },
      "execution_count": null,
      "outputs": []
    },
    {
      "cell_type": "code",
      "source": [
        "starting_seq = \"GCTCGAGC\"  \n",
        "binding = \"TCTCCAAG\"  \n",
        "predicted_fitness = predict_fitness(model, starting_seq, binding)\n",
        "print(f\"Predicted fitness for the starting sequence '{starting_seq}' and binding '{binding}': {predicted_fitness}\")\n",
        "print(f\"Real fitness for the starting sequence '{starting_seq}' and binding '{binding}': {0.5071331381684739}\")"
      ],
      "metadata": {
        "colab": {
          "base_uri": "https://localhost:8080/"
        },
        "id": "7S4TUSGfybPA",
        "outputId": "f7f6f990-77e1-4bc4-8508-d3b024d6cc59"
      },
      "execution_count": null,
      "outputs": [
        {
          "output_type": "stream",
          "name": "stdout",
          "text": [
            "Predicted fitness for the starting sequence 'GCTCGAGC' and binding 'TCTCCAAG': 0.5075547695159912\n",
            "Real fitness for the starting sequence 'GCTCGAGC' and binding 'TCTCCAAG': 0.5071331381684739\n"
          ]
        }
      ]
    },
    {
      "cell_type": "markdown",
      "source": [
        "\n",
        "\n",
        "---\n",
        "\n"
      ],
      "metadata": {
        "id": "aLPe3Cj1rOfK"
      }
    },
    {
      "cell_type": "markdown",
      "source": [
        "#2. Modèle Transformer de type GPT-2"
      ],
      "metadata": {
        "id": "1JTmUvBmB5iM"
      }
    },
    {
      "cell_type": "code",
      "source": [
        "# Imports\n",
        "import pandas as pd\n",
        "import numpy as np\n",
        "import torch\n",
        "from transformers import GPT2LMHeadModel, GPT2Tokenizer\n",
        "from sklearn.model_selection import train_test_split\n",
        "from torch.utils.data import Dataset, DataLoader\n",
        "from transformers import GPT2Config"
      ],
      "metadata": {
        "id": "VT3QGnupX6QB"
      },
      "execution_count": null,
      "outputs": []
    },
    {
      "cell_type": "code",
      "source": [
        "class SentenceDataset(Dataset):\n",
        "    def __init__(self, inputs):\n",
        "        self.inputs = inputs\n",
        "\n",
        "    def __len__(self):\n",
        "        return len(self.inputs[\"input_ids\"])\n",
        "\n",
        "    def __getitem__(self, idx):\n",
        "        return {\"input_ids\": self.inputs[\"input_ids\"][idx], \"attention_mask\": self.inputs[\"attention_mask\"][idx]}"
      ],
      "metadata": {
        "id": "q1fXiSZfYSk_"
      },
      "execution_count": null,
      "outputs": []
    },
    {
      "cell_type": "code",
      "source": [
        "device = torch.device('cuda' if torch.cuda.is_available() else 'cpu')\n",
        "\n",
        "tokenizer = GPT2Tokenizer.from_pretrained('gpt2')\n",
        "config = GPT2Config.from_pretrained('gpt2', dropout=0.1)\n",
        "model_gpt2 = GPT2LMHeadModel.from_pretrained('gpt2', config=config)\n",
        "\n",
        "dna_tokens = ['A', 'C', 'G', 'T']\n",
        "num_added_tokens = tokenizer.add_tokens(dna_tokens)\n",
        "model_gpt2.resize_token_embeddings(len(tokenizer))\n",
        "tokenizer.pad_token = '[PAD]'  \n",
        "\n",
        "# Load data\n",
        "train_data = pd.read_csv(training_data_pth)\n",
        "test_data = pd.read_csv(test_data_pth)\n",
        "\n",
        "# Remove unnecessary columns\n",
        "train_data = train_data.drop(columns=[\"Unnamed: 0\"])\n",
        "test_data = test_data.drop(columns=[\"Unnamed: 0\"])\n",
        "\n",
        "train_data['seq_pair'] = train_data['starting_seq'] + train_data['binding']\n",
        "test_data['seq_pair'] = test_data['starting_seq'] + test_data['binding']\n",
        "\n",
        "train_seqs = train_data['starting_seq'].values\n",
        "test_seqs = test_data['starting_seq'].values\n",
        "\n",
        "# Split into training and validation sets\n",
        "X_train, X_val = train_test_split(train_seqs, test_size=0.2, random_state=42)\n",
        "\n",
        "max_length = 16 \n",
        "inputs = tokenizer(X_train.tolist(), return_tensors=\"pt\", padding=True, truncation=True, max_length=max_length)\n",
        "dataset = SentenceDataset(inputs)\n",
        "train_loader = DataLoader(dataset, batch_size=128, shuffle=True)\n",
        "\n",
        "inputs_val = tokenizer(X_val.tolist(), return_tensors=\"pt\", padding=True, truncation=True, max_length=max_length)\n",
        "dataset_val = SentenceDataset(inputs_val)\n",
        "val_loader = DataLoader(dataset_val, batch_size=128, shuffle=False)\n",
        "\n",
        "optimizer = torch.optim.Adam(model_gpt2.parameters(), lr=2e-5)\n",
        "model_gpt2.to(device)\n",
        "model_gpt2.train()\n",
        "\n",
        "num_epochs = 20\n",
        "patience = 3\n",
        "best_val_loss = float('inf')\n",
        "num_bad_epochs = 0\n",
        "\n",
        "def evaluate(model, val_loader):\n",
        "    model.eval()\n",
        "    total_loss = 0\n",
        "    num_batches = 0\n",
        "\n",
        "    with torch.no_grad():\n",
        "        for batch in val_loader:\n",
        "            input_ids = batch[\"input_ids\"].to(device)\n",
        "            attention_mask = batch[\"attention_mask\"].to(device)\n",
        "            labels = input_ids.clone().detach()\n",
        "            labels[labels == tokenizer.pad_token_id] = -100\n",
        "            outputs = model(input_ids=input_ids, attention_mask=attention_mask, labels=labels)\n",
        "            loss = outputs.loss\n",
        "\n",
        "            total_loss += loss.item()\n",
        "            num_batches += 1\n",
        "\n",
        "    return total_loss / num_batches\n",
        "\n",
        "for epoch in range(num_epochs):\n",
        "    model_gpt2.train()\n",
        "\n",
        "    for batch_idx, batch in enumerate(train_loader):\n",
        "        optimizer.zero_grad()\n",
        "        input_ids = batch[\"input_ids\"].to(device)\n",
        "        attention_mask = batch[\"attention_mask\"].to(device)\n",
        "        labels = input_ids.clone().detach()\n",
        "        labels[labels == tokenizer.pad_token_id] = -100\n",
        "        outputs = model_gpt2(input_ids=input_ids, attention_mask=attention_mask, labels=labels)\n",
        "        loss = outputs.loss\n",
        "        loss.backward()\n",
        "        optimizer.step()\n",
        "        if batch_idx % 500 == 0:\n",
        "          print(\"Epoch {} Batch {} Train Loss {:.4f}\".format(epoch + 1, batch_idx + 1, loss.item()))\n",
        "\n",
        "    val_loss = evaluate(model_gpt2, val_loader)\n",
        "    print(\"Epoch {} Validation Loss {:.4f}\".format(epoch + 1, val_loss))\n",
        "\n",
        "    # Check if the validation loss has improved\n",
        "    if val_loss < best_val_loss:\n",
        "        best_val_loss = val_loss\n",
        "        num_bad_epochs = 0\n",
        "    else:\n",
        "        num_bad_epochs += 1\n",
        "\n",
        "    if num_bad_epochs >= patience:\n",
        "        print(f\"Validation loss didn't improve for {patience} epochs\")\n",
        "        break"
      ],
      "metadata": {
        "colab": {
          "base_uri": "https://localhost:8080/"
        },
        "id": "hy1u8tQcBgrn",
        "outputId": "018ae0f7-a29f-4cce-970e-7ffaa7850154"
      },
      "execution_count": null,
      "outputs": [
        {
          "output_type": "stream",
          "name": "stdout",
          "text": [
            "Epoch 1 Batch 1 Train Loss 0.2752\n",
            "Epoch 1 Batch 501 Train Loss 0.1466\n",
            "Epoch 1 Batch 1001 Train Loss 0.1389\n",
            "Epoch 1 Batch 1501 Train Loss 0.1106\n",
            "Epoch 1 Validation Loss 0.1363\n",
            "Epoch 2 Batch 1 Train Loss 0.1137\n",
            "Epoch 2 Batch 501 Train Loss 0.1483\n",
            "Epoch 2 Batch 1001 Train Loss 0.1593\n",
            "Epoch 2 Batch 1501 Train Loss 0.1325\n",
            "Epoch 2 Validation Loss 0.1357\n",
            "Epoch 3 Batch 1 Train Loss 0.1489\n",
            "Epoch 3 Batch 501 Train Loss 0.1249\n",
            "Epoch 3 Batch 1001 Train Loss 0.1480\n",
            "Epoch 3 Batch 1501 Train Loss 0.1210\n",
            "Epoch 3 Validation Loss 0.1356\n",
            "Epoch 4 Batch 1 Train Loss 0.1192\n",
            "Epoch 4 Batch 501 Train Loss 0.1192\n",
            "Epoch 4 Batch 1001 Train Loss 0.1272\n",
            "Epoch 4 Batch 1501 Train Loss 0.1455\n",
            "Epoch 4 Validation Loss 0.1353\n",
            "Epoch 5 Batch 1 Train Loss 0.1415\n",
            "Epoch 5 Batch 501 Train Loss 0.1495\n",
            "Epoch 5 Batch 1001 Train Loss 0.1319\n",
            "Epoch 5 Batch 1501 Train Loss 0.1309\n",
            "Epoch 5 Validation Loss 0.1353\n",
            "Epoch 6 Batch 1 Train Loss 0.1367\n",
            "Epoch 6 Batch 501 Train Loss 0.1499\n",
            "Epoch 6 Batch 1001 Train Loss 0.1332\n",
            "Epoch 6 Batch 1501 Train Loss 0.1526\n",
            "Epoch 6 Validation Loss 0.1360\n",
            "Epoch 7 Batch 1 Train Loss 0.1200\n",
            "Epoch 7 Batch 501 Train Loss 0.1143\n",
            "Epoch 7 Batch 1001 Train Loss 0.1386\n",
            "Epoch 7 Batch 1501 Train Loss 0.1359\n",
            "Epoch 7 Validation Loss 0.1354\n",
            "Epoch 8 Batch 1 Train Loss 0.1392\n",
            "Epoch 8 Batch 501 Train Loss 0.1121\n",
            "Epoch 8 Batch 1001 Train Loss 0.1166\n",
            "Epoch 8 Batch 1501 Train Loss 0.1312\n",
            "Epoch 8 Validation Loss 0.1363\n",
            "Validation loss didn't improve for 3 epochs\n"
          ]
        }
      ]
    },
    {
      "cell_type": "code",
      "source": [
        "model_gpt2.save_pretrained('gpt2')\n",
        "tokenizer.save_pretrained('gpt2')\n",
        "\n",
        "model_gpt2 = GPT2LMHeadModel.from_pretrained('gpt2')\n",
        "tokenizer = GPT2Tokenizer.from_pretrained('gpt2')"
      ],
      "metadata": {
        "id": "EJAlLpD9BsNw"
      },
      "execution_count": null,
      "outputs": []
    },
    {
      "cell_type": "markdown",
      "source": [
        "####Évaluation du modèle génératif GPT-2 sur l'ensemble test `test_loader`\n"
      ],
      "metadata": {
        "id": "nrDlh8LoaqPY"
      }
    },
    {
      "cell_type": "code",
      "source": [
        "test_inputs = tokenizer(test_seqs.tolist(), return_tensors=\"pt\", padding=True, truncation=True, max_length=max_length)\n",
        "\n",
        "test_dataset = SentenceDataset(test_inputs)\n",
        "test_loader = DataLoader(test_dataset, batch_size=128)\n",
        "\n",
        "model_gpt2.to(device)\n",
        "model_gpt2.eval()\n",
        "\n",
        "total_loss = 0\n",
        "num_batches = 0\n",
        "\n",
        "with torch.no_grad():\n",
        "    for batch in test_loader:\n",
        "        input_ids = batch[\"input_ids\"].to(device)\n",
        "        attention_mask = batch[\"attention_mask\"].to(device)\n",
        "        labels = input_ids.clone().detach()\n",
        "        labels[labels == tokenizer.pad_token_id] = -100\n",
        "        outputs = model_gpt2(input_ids=input_ids, attention_mask=attention_mask, labels=labels)\n",
        "        loss = outputs.loss\n",
        "        total_loss += loss.item()\n",
        "        num_batches += 1\n",
        "\n",
        "average_test_loss = total_loss / num_batches\n",
        "print(\"GPT-2 model loss on test data: {:.4f}\".format(average_test_loss))"
      ],
      "metadata": {
        "colab": {
          "base_uri": "https://localhost:8080/"
        },
        "id": "VjCia5p9apmk",
        "outputId": "041aadc1-1c36-473d-f35c-e678c77bf103"
      },
      "execution_count": null,
      "outputs": [
        {
          "output_type": "stream",
          "name": "stdout",
          "text": [
            "GPT-2 model loss on test data: 0.1429\n"
          ]
        }
      ]
    },
    {
      "cell_type": "markdown",
      "source": [
        "####Exemple de génération de séquences à partir d'une `start_sequence` tiré de l'ensemble test "
      ],
      "metadata": {
        "id": "wBkomLtpaJpQ"
      }
    },
    {
      "cell_type": "code",
      "source": [
        "start_seq = 'GCTCGAGC'\n",
        "input_ids = tokenizer.encode(start_seq, return_tensors='pt').to(device)  \n",
        "attention_mask = input_ids.ne(tokenizer.pad_token_id).float().to(device) \n",
        "\n",
        "generated_sequence = model_gpt2.generate(\n",
        "    input_ids=input_ids,\n",
        "    attention_mask=attention_mask,\n",
        "    do_sample=True,\n",
        "    top_p=0.95,\n",
        "    num_return_sequences=10\n",
        ")\n",
        "\n",
        "for sequence in generated_sequence:\n",
        "    print(tokenizer.decode(sequence))"
      ],
      "metadata": {
        "colab": {
          "base_uri": "https://localhost:8080/"
        },
        "id": "2-_LrH3kB3R0",
        "outputId": "709b6d3f-ad0f-4fb0-f8af-0ee3c6327172"
      },
      "execution_count": null,
      "outputs": [
        {
          "output_type": "stream",
          "name": "stderr",
          "text": [
            "Setting `pad_token_id` to `eos_token_id`:50256 for open-end generation.\n",
            "/usr/local/lib/python3.10/dist-packages/transformers/generation/utils.py:1313: UserWarning: Using `max_length`'s default (20) to control the generation length. This behaviour is deprecated and will be removed from the config in v5 of Transformers -- we recommend using `max_new_tokens` to control the maximum length of the generation.\n",
            "  warnings.warn(\n"
          ]
        },
        {
          "output_type": "stream",
          "name": "stdout",
          "text": [
            "GCTCGAGCGCGTTCTGAGCTGAGTATAGGAGT\n",
            "GCTCGAGCAGGAGAGTACGAGTACAGTATGCT\n",
            "GCTCGAGCACCTGCTGATGACGAGGTTTCTG\n",
            "GCTCGAGCATTTGTTGTTTACGCTGACGCTG\n",
            "GCTCGAGCACAGTATGCTTATGATGCTGATG\n",
            "GCTCGAGCAGCTAGTTTACGAGTACGATAGGAG\n",
            "GCTCGAGCAGTTTCTTCTGTTGAGTATATGAT\n",
            "GCTCGAGCAGTATGCTGTTTTTATGTTTCTAT\n",
            "GCTCGAGCATAGTACGAGTATGTTGATGCTG\n",
            "GCTCGAGCAGTCTATGTTGAGGAGTCTGAGT\n"
          ]
        }
      ]
    },
    {
      "cell_type": "markdown",
      "source": [
        "\n",
        "\n",
        "---\n",
        "\n"
      ],
      "metadata": {
        "id": "JK7Sx00ErSnj"
      }
    },
    {
      "cell_type": "markdown",
      "source": [
        "#3. Échantillonnage par rejet"
      ],
      "metadata": {
        "id": "nKZxmnVC-4_Z"
      }
    },
    {
      "cell_type": "code",
      "source": [
        "# Génère une séquence de candidats en utilisant le modèle génératif GPT-2\n",
        "def generate_candidate_sequence(prompt, model_gpt, tokenizer, max_length):\n",
        "    input_ids = tokenizer.encode(prompt, return_tensors='pt').to(device)\n",
        "    attention_mask = (input_ids != tokenizer.pad_token_id).long().to(device)\n",
        "    generated_output = model_gpt.generate(input_ids, max_length=max_length, do_sample=True, num_return_sequences=10, attention_mask=attention_mask, pad_token_id=tokenizer.eos_token_id)\n",
        "    candidate_sequence = tokenizer.decode(generated_output[0], skip_special_tokens=True)\n",
        "    return candidate_sequence\n",
        "\n",
        "# Prédit la fitness d'une séquence en utilisant le modèle multi-SWAG\n",
        "def predict_fitness_swag_models(swag_models, starting_seq, binding_seq):\n",
        "    input_sequence_encoded = one_hot_encode_dna(starting_seq, binding_seq, input_size)\n",
        "    input_tensor = torch.tensor(input_sequence_encoded, dtype=torch.float32).to(device)\n",
        "\n",
        "    avg_prediction = 0\n",
        "    with torch.no_grad():\n",
        "        for model in swag_models:\n",
        "            model = swag.sample()\n",
        "            model.eval()\n",
        "            prediction = model(input_tensor).item()\n",
        "            avg_prediction += prediction\n",
        "    \n",
        "    avg_prediction /= len(swag_models)\n",
        "    return avg_prediction"
      ],
      "metadata": {
        "id": "vyEkVYgVzA39"
      },
      "execution_count": null,
      "outputs": []
    },
    {
      "cell_type": "code",
      "source": [
        "def rejection_sampling(prompt, model_gpt, tokenizer, swag_models, max_length, threshold=0.6, max_attempts=1000):\n",
        "    for _ in range(max_attempts):\n",
        "        candidate_sequence = generate_candidate_sequence(prompt, model_gpt, tokenizer, max_length)\n",
        "        starting_seq = candidate_sequence[:len(prompt)]\n",
        "        binding_seq = candidate_sequence[len(prompt):]\n",
        "        \n",
        "        # Prédire la fitness de la séquence candidate à l'aide du modèle multi-SWAG\n",
        "        predicted_fitness = predict_fitness_swag_models(swag_models, starting_seq, binding_seq)\n",
        "        \n",
        "        # Accepre ou rejette la séquence candidate selon le threshold\n",
        "        if predicted_fitness >= threshold:\n",
        "            return candidate_sequence\n",
        "\n",
        "    # Si aucune séquence n'est supérieur au seuil threshold, on renvoit la dernière séquence\n",
        "    return candidate_sequence"
      ],
      "metadata": {
        "id": "jtlceq-rzVFM"
      },
      "execution_count": null,
      "outputs": []
    },
    {
      "cell_type": "markdown",
      "source": [
        "####Exemple d'utilisation de l'apprentissage par rejet pour affiner des séquences générées par notre modèle génératif GPT-2 à l'aide du modèle de substitution mutli-SWAG"
      ],
      "metadata": {
        "id": "_nWcT74Z_cbu"
      }
    },
    {
      "cell_type": "code",
      "source": [
        "starting_seq = \"CCTTCTTT\"\n",
        "refined_sequence = rejection_sampling(starting_seq, model_gpt2, tokenizer, swag_models, max_length=16)\n",
        "print(f\"Refined sequence: {refined_sequence}\")"
      ],
      "metadata": {
        "colab": {
          "base_uri": "https://localhost:8080/"
        },
        "id": "eL16UFunzozo",
        "outputId": "886ac251-6b62-4dd5-a7e6-2712dca941e6"
      },
      "execution_count": null,
      "outputs": [
        {
          "output_type": "stream",
          "name": "stdout",
          "text": [
            "Refined sequence: CCTTCTTTTTATATTTGTTTCTGTTGCT\n"
          ]
        }
      ]
    },
    {
      "cell_type": "markdown",
      "source": [
        "####Visualisation pour le même exemple `starting_seq = \"CCTTCTTT\"`\n",
        "\n",
        "\n"
      ],
      "metadata": {
        "id": "XJjDAZjP-wnV"
      }
    },
    {
      "cell_type": "code",
      "source": [
        "import matplotlib.pyplot as plt\n",
        "\n",
        "# Génération des séquences à l'aide du modèle GPT-2 sans échantillonnage par rejet\n",
        "def generate_sequences_without_sampling(prompt, model_gpt, tokenizer, num_sequences, max_length):\n",
        "    input_ids = tokenizer.encode(prompt, return_tensors='pt').to(device)\n",
        "    attention_mask = (input_ids != tokenizer.pad_token_id).long().to(device)\n",
        "    generated_output = model_gpt.generate(input_ids, max_length=max_length, do_sample=True, num_return_sequences=num_sequences, attention_mask=attention_mask, pad_token_id=tokenizer.eos_token_id)\n",
        "    sequences = [tokenizer.decode(seq, skip_special_tokens=True) for seq in generated_output]\n",
        "    return sequences\n",
        "\n",
        "starting_seq = \"CCTTCTTT\"\n",
        "num_sequences = 100\n",
        "\n",
        "# Sans échantillonnage par rejet\n",
        "sequences_without_sampling = generate_sequences_without_sampling(starting_seq, model_gpt2, tokenizer, num_sequences, 16)\n",
        "\n",
        "# Avec échantillonnage de rejet\n",
        "sequences_with_sampling = [rejection_sampling(starting_seq, model_gpt2, tokenizer, swag_models, max_length=16, max_attempts=100) for _ in range(num_sequences)]\n",
        "\n",
        "# Valeurs Fitness \n",
        "fitness_without_sampling = [predict_fitness_swag_models(swag_models, seq[:len(starting_seq)], seq[len(starting_seq):]) for seq in sequences_without_sampling]\n",
        "fitness_with_sampling = [predict_fitness_swag_models(swag_models, seq[:len(starting_seq)], seq[len(starting_seq):]) for seq in sequences_with_sampling]\n",
        "\n",
        "plt.hist(fitness_without_sampling, bins=20, alpha=0.5, label=\"Without Rejection Sampling\")\n",
        "plt.hist(fitness_with_sampling, bins=20, alpha=0.5, label=\"With Rejection Sampling\")\n",
        "plt.xlabel(\"Predicted Fitness\")\n",
        "plt.ylabel(\"Frequency\")\n",
        "plt.legend()\n",
        "plt.show()"
      ],
      "metadata": {
        "colab": {
          "base_uri": "https://localhost:8080/",
          "height": 449
        },
        "id": "hV6qOubO3xt3",
        "outputId": "d95aa928-ccb6-426f-e2fa-19fec6b4b2b2"
      },
      "execution_count": null,
      "outputs": [
        {
          "output_type": "display_data",
          "data": {
            "text/plain": [
              "<Figure size 640x480 with 1 Axes>"
            ],
            "image/png": "[encoded data removed]"
          },
          "metadata": {}
        }
      ]
    },
    {
      "cell_type": "markdown",
      "source": [
        "#### Comparaison du générateur sans affinage et par échantillonnage par rejet sur 100 séquences `starting_seq` tirés de l'ensemble de test "
      ],
      "metadata": {
        "id": "jwiEqNWl_l4o"
      }
    },
    {
      "cell_type": "code",
      "source": [
        "def compute_fitness_values(starting_seqs, model_gpt2, tokenizer, swag_models):\n",
        "    fitness_without_sampling = []\n",
        "    fitness_with_sampling = []\n",
        "\n",
        "    for starting_seq in starting_seqs:\n",
        "        # Sans échantillonnage par rejet\n",
        "        fitness_wo = predict_fitness_swag_models(swag_models, starting_seq, \"\")\n",
        "        fitness_without_sampling.append(fitness_wo)\n",
        "\n",
        "        # Avec échantillonnage par rejet\n",
        "        refined_seq_sampling = rejection_sampling(starting_seq, model_gpt2, tokenizer, swag_models, max_length=16)\n",
        "        binding_seq_sampling = refined_seq_sampling[len(starting_seq):]\n",
        "        fitness_sampling = predict_fitness_swag_models(swag_models, starting_seq, binding_seq_sampling)\n",
        "        fitness_with_sampling.append(fitness_sampling)\n",
        "        \n",
        "    return fitness_without_sampling, fitness_with_sampling"
      ],
      "metadata": {
        "id": "BlTdatlN_4MM"
      },
      "execution_count": null,
      "outputs": []
    },
    {
      "cell_type": "code",
      "source": [
        "test_starting_seqs = test_data[\"starting_seq\"].values[:100] \n",
        "fitness_without_sampling, fitness_with_sampling = compute_fitness_values(test_starting_seqs, model_gpt2, tokenizer, swag_models)\n",
        "\n",
        "\n",
        "plt.hist(fitness_without_sampling, bins=20, alpha=0.5, label=\"Without Refinement\")\n",
        "plt.hist(fitness_with_sampling, bins=20, alpha=0.5, label=\"Rejection Sampling\")\n",
        "plt.xlabel(\"Predicted Fitness\")\n",
        "plt.ylabel(\"Frequency\")\n",
        "plt.legend()\n",
        "plt.show()"
      ],
      "metadata": {
        "colab": {
          "base_uri": "https://localhost:8080/",
          "height": 449
        },
        "id": "nuej4rN9AvDv",
        "outputId": "7bb3a2f3-7f55-4891-e821-64d86915d7f5"
      },
      "execution_count": null,
      "outputs": [
        {
          "output_type": "display_data",
          "data": {
            "text/plain": [
              "<Figure size 640x480 with 1 Axes>"
            ],
            "image/png": "[encoded data removed]"
          },
          "metadata": {}
        }
      ]
    },
    {
      "cell_type": "markdown",
      "source": [
        "Il est possible d'observer que l'application de l'échantillonnage par rejet aux séquences générées avec le modèle transformateur GPT-2 entraîne des valeurs de fitness prédites plus élevées par rapport à celles qui n'utilisent pas cette méthode. Comme le montre l'étape 1, les prédictions présentent une erreur de perte moyenne de 0.01311 sur l'ensemble test fourni."
      ],
      "metadata": {
        "id": "vNipclIPdXkM"
      }
    },
    {
      "cell_type": "markdown",
      "source": [
        "\n",
        "\n",
        "---\n",
        "\n"
      ],
      "metadata": {
        "id": "2RkhUoKorVY9"
      }
    },
    {
      "cell_type": "markdown",
      "source": [
        "#4. Méthode d’échantillonnage MCMC de type Metropolis-Hasting"
      ],
      "metadata": {
        "id": "lKVjbhsO481O"
      }
    },
    {
      "cell_type": "code",
      "source": [
        "import numpy as np\n",
        "\n",
        "def mutate_sequence(sequence, mutation_rate=0.1):\n",
        "    mutated_sequence = \"\"\n",
        "    for base in sequence:\n",
        "        if np.random.rand() < mutation_rate:\n",
        "            mutated_sequence += np.random.choice(dna_tokens) \n",
        "        else:\n",
        "            mutated_sequence += base\n",
        "    return mutated_sequence\n",
        "\n",
        "def metropolis_hastings(prompt, model_gpt, tokenizer, swag_models, max_length, num_samples, mutation_rate=0.1):\n",
        "    current_sequence = generate_candidate_sequence(prompt, model_gpt, tokenizer, max_length)\n",
        "    current_fitness = predict_fitness_swag_models(swag_models, current_sequence[:len(prompt)], current_sequence[len(prompt):])\n",
        "    \n",
        "    samples = [current_sequence]\n",
        "    fitness_values = [current_fitness]\n",
        "    \n",
        "    for _ in range(num_samples - 1):\n",
        "        # Génère une séquence candidate en muttant la séquence courante\n",
        "        candidate_sequence = mutate_sequence(current_sequence, mutation_rate=mutation_rate)\n",
        "        candidate_fitness = predict_fitness_swag_models(swag_models, candidate_sequence[:len(prompt)], candidate_sequence[len(prompt):])\n",
        "        \n",
        "        acceptance_probability = min(1, np.exp(candidate_fitness - current_fitness))\n",
        "        \n",
        "        # Accepte ou rejette la séquence candidate selon la prob d'aecceptation\n",
        "        if np.random.rand() < acceptance_probability:\n",
        "            current_sequence = candidate_sequence\n",
        "            current_fitness = candidate_fitness\n",
        "        \n",
        "        samples.append(current_sequence)\n",
        "        fitness_values.append(current_fitness)\n",
        "    \n",
        "    return samples, fitness_values"
      ],
      "metadata": {
        "id": "zfrQS2kr43nT"
      },
      "execution_count": null,
      "outputs": []
    },
    {
      "cell_type": "markdown",
      "source": [
        "#### Comparaison du générateur sans affinage, avec échantillonnage par rejet et avec une méthode d’échantillonnage MCMC de type Metropolis-Hasting sur 100 séquences `starting_seq` tirés de l'ensemble de test "
      ],
      "metadata": {
        "id": "CPPQkNhCUpwX"
      }
    },
    {
      "cell_type": "code",
      "source": [
        "def compute_fitness_mh(starting_seqs, model_gpt2, tokenizer, swag_models):\n",
        "    fitness_mh = []\n",
        "    for starting_seq in starting_seqs:\n",
        "        # Metropolis-Hastings\n",
        "        samples, fitness_values = metropolis_hastings(starting_seq, model_gpt2, tokenizer, swag_models, max_length=16, num_samples=num_sequences)\n",
        "        \n",
        "        # Choisir le fitness le plus élevé\n",
        "        best_index = np.argmax(fitness_values)\n",
        "        \n",
        "        binding_seq_mh = samples[best_index][len(starting_seq):]\n",
        "        fitness_mh_value = predict_fitness_swag_models(swag_models, starting_seq, binding_seq_mh)\n",
        "        fitness_mh.append(fitness_mh_value)\n",
        "        \n",
        "    return fitness_mh"
      ],
      "metadata": {
        "id": "lZREeydgCtIe"
      },
      "execution_count": null,
      "outputs": []
    },
    {
      "cell_type": "code",
      "source": [
        "fitness_mh = compute_fitness_mh(test_starting_seqs, model_gpt2, tokenizer, swag_models)\n",
        "\n",
        "plt.hist(fitness_without_sampling, bins=20, alpha=0.5, label=\"Without Refinement\")\n",
        "plt.hist(fitness_with_sampling, bins=20, alpha=0.5, label=\"Rejection Sampling\")\n",
        "plt.hist(fitness_mh, bins=20, alpha=0.5, label=\"Metropolis-Hastings\")\n",
        "plt.xlabel(\"Predicted Fitness\")\n",
        "plt.ylabel(\"Frequency\")\n",
        "plt.legend()\n",
        "plt.show()"
      ],
      "metadata": {
        "colab": {
          "base_uri": "https://localhost:8080/",
          "height": 449
        },
        "id": "I6G_ZL86DDGh",
        "outputId": "2854cf7a-eec9-4444-bb21-c4d71582fccf"
      },
      "execution_count": null,
      "outputs": [
        {
          "output_type": "display_data",
          "data": {
            "text/plain": [
              "<Figure size 640x480 with 1 Axes>"
            ],
            "image/png": "[encoded data removed]"
          },
          "metadata": {}
        }
      ]
    },
    {
      "cell_type": "markdown",
      "source": [
        "Il est possible d'observer que l'application de la méthode Metropolis-Hastings aux séquences générées avec le modèle transformateur GPT-2 entraîne des valeurs de fitness prédites plus élevées par rapport à celles qui utilisent l'échantillonnage par rejet."
      ],
      "metadata": {
        "id": "tOZkSVuLqUYI"
      }
    },
    {
      "cell_type": "markdown",
      "source": [
        "De plus, la méthode d'échantillonnage par rejet peut être inefficace, car elle nécessite de générer un grand nombre d'échantillons aléatoires avant d'obtenir un échantillon qui satisfait aux critères d'acceptation. En revanche, la méthode de Metropolis-Hastings peut être plus efficace, car elle utilise des mécanismes de rééchantillonnage qui permettent d'explorer l'espace de recherche de manière plus efficace et d'obtenir des échantillons de manière plus ciblée. Donc, Metropolis-Hastings pourrait trouver des séquences optimales plus rapidement que la méthode d'échantillonnage par rejet."
      ],
      "metadata": {
        "id": "1SSYB_-jdeU_"
      }
    },
    {
      "cell_type": "markdown",
      "source": [
        "\n",
        "\n",
        "---\n",
        "\n"
      ],
      "metadata": {
        "id": "jyF5YiprrXUH"
      }
    }
  ]
}